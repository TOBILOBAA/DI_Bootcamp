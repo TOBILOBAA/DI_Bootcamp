{
  "nbformat": 4,
  "nbformat_minor": 0,
  "metadata": {
    "colab": {
      "provenance": []
    },
    "kernelspec": {
      "name": "python3",
      "display_name": "Python 3"
    },
    "language_info": {
      "name": "python"
    }
  },
  "cells": [
    {
      "cell_type": "code",
      "execution_count": 3,
      "metadata": {
        "id": "WOFLQMzGNW3-"
      },
      "outputs": [],
      "source": [
        "import pandas as pd\n",
        "import numpy as np\n",
        "import matplotlib.pyplot as plt\n",
        "import seaborn as sns\n",
        "from scipy import stats\n",
        "from scipy.stats import norm"
      ]
    },
    {
      "cell_type": "code",
      "source": [
        "from google.colab import files\n",
        "uploaded = files.upload()"
      ],
      "metadata": {
        "colab": {
          "base_uri": "https://localhost:8080/",
          "height": 73
        },
        "id": "D3n8Mr_9NrXK",
        "outputId": "063c9f23-921f-49a8-8f5f-1cab9ec1b90f"
      },
      "execution_count": 4,
      "outputs": [
        {
          "output_type": "display_data",
          "data": {
            "text/plain": [
              "<IPython.core.display.HTML object>"
            ],
            "text/html": [
              "\n",
              "     <input type=\"file\" id=\"files-5a1a350c-dfdf-47eb-aeb8-0c178135f1f1\" name=\"files[]\" multiple disabled\n",
              "        style=\"border:none\" />\n",
              "     <output id=\"result-5a1a350c-dfdf-47eb-aeb8-0c178135f1f1\">\n",
              "      Upload widget is only available when the cell has been executed in the\n",
              "      current browser session. Please rerun this cell to enable.\n",
              "      </output>\n",
              "      <script>// Copyright 2017 Google LLC\n",
              "//\n",
              "// Licensed under the Apache License, Version 2.0 (the \"License\");\n",
              "// you may not use this file except in compliance with the License.\n",
              "// You may obtain a copy of the License at\n",
              "//\n",
              "//      http://www.apache.org/licenses/LICENSE-2.0\n",
              "//\n",
              "// Unless required by applicable law or agreed to in writing, software\n",
              "// distributed under the License is distributed on an \"AS IS\" BASIS,\n",
              "// WITHOUT WARRANTIES OR CONDITIONS OF ANY KIND, either express or implied.\n",
              "// See the License for the specific language governing permissions and\n",
              "// limitations under the License.\n",
              "\n",
              "/**\n",
              " * @fileoverview Helpers for google.colab Python module.\n",
              " */\n",
              "(function(scope) {\n",
              "function span(text, styleAttributes = {}) {\n",
              "  const element = document.createElement('span');\n",
              "  element.textContent = text;\n",
              "  for (const key of Object.keys(styleAttributes)) {\n",
              "    element.style[key] = styleAttributes[key];\n",
              "  }\n",
              "  return element;\n",
              "}\n",
              "\n",
              "// Max number of bytes which will be uploaded at a time.\n",
              "const MAX_PAYLOAD_SIZE = 100 * 1024;\n",
              "\n",
              "function _uploadFiles(inputId, outputId) {\n",
              "  const steps = uploadFilesStep(inputId, outputId);\n",
              "  const outputElement = document.getElementById(outputId);\n",
              "  // Cache steps on the outputElement to make it available for the next call\n",
              "  // to uploadFilesContinue from Python.\n",
              "  outputElement.steps = steps;\n",
              "\n",
              "  return _uploadFilesContinue(outputId);\n",
              "}\n",
              "\n",
              "// This is roughly an async generator (not supported in the browser yet),\n",
              "// where there are multiple asynchronous steps and the Python side is going\n",
              "// to poll for completion of each step.\n",
              "// This uses a Promise to block the python side on completion of each step,\n",
              "// then passes the result of the previous step as the input to the next step.\n",
              "function _uploadFilesContinue(outputId) {\n",
              "  const outputElement = document.getElementById(outputId);\n",
              "  const steps = outputElement.steps;\n",
              "\n",
              "  const next = steps.next(outputElement.lastPromiseValue);\n",
              "  return Promise.resolve(next.value.promise).then((value) => {\n",
              "    // Cache the last promise value to make it available to the next\n",
              "    // step of the generator.\n",
              "    outputElement.lastPromiseValue = value;\n",
              "    return next.value.response;\n",
              "  });\n",
              "}\n",
              "\n",
              "/**\n",
              " * Generator function which is called between each async step of the upload\n",
              " * process.\n",
              " * @param {string} inputId Element ID of the input file picker element.\n",
              " * @param {string} outputId Element ID of the output display.\n",
              " * @return {!Iterable<!Object>} Iterable of next steps.\n",
              " */\n",
              "function* uploadFilesStep(inputId, outputId) {\n",
              "  const inputElement = document.getElementById(inputId);\n",
              "  inputElement.disabled = false;\n",
              "\n",
              "  const outputElement = document.getElementById(outputId);\n",
              "  outputElement.innerHTML = '';\n",
              "\n",
              "  const pickedPromise = new Promise((resolve) => {\n",
              "    inputElement.addEventListener('change', (e) => {\n",
              "      resolve(e.target.files);\n",
              "    });\n",
              "  });\n",
              "\n",
              "  const cancel = document.createElement('button');\n",
              "  inputElement.parentElement.appendChild(cancel);\n",
              "  cancel.textContent = 'Cancel upload';\n",
              "  const cancelPromise = new Promise((resolve) => {\n",
              "    cancel.onclick = () => {\n",
              "      resolve(null);\n",
              "    };\n",
              "  });\n",
              "\n",
              "  // Wait for the user to pick the files.\n",
              "  const files = yield {\n",
              "    promise: Promise.race([pickedPromise, cancelPromise]),\n",
              "    response: {\n",
              "      action: 'starting',\n",
              "    }\n",
              "  };\n",
              "\n",
              "  cancel.remove();\n",
              "\n",
              "  // Disable the input element since further picks are not allowed.\n",
              "  inputElement.disabled = true;\n",
              "\n",
              "  if (!files) {\n",
              "    return {\n",
              "      response: {\n",
              "        action: 'complete',\n",
              "      }\n",
              "    };\n",
              "  }\n",
              "\n",
              "  for (const file of files) {\n",
              "    const li = document.createElement('li');\n",
              "    li.append(span(file.name, {fontWeight: 'bold'}));\n",
              "    li.append(span(\n",
              "        `(${file.type || 'n/a'}) - ${file.size} bytes, ` +\n",
              "        `last modified: ${\n",
              "            file.lastModifiedDate ? file.lastModifiedDate.toLocaleDateString() :\n",
              "                                    'n/a'} - `));\n",
              "    const percent = span('0% done');\n",
              "    li.appendChild(percent);\n",
              "\n",
              "    outputElement.appendChild(li);\n",
              "\n",
              "    const fileDataPromise = new Promise((resolve) => {\n",
              "      const reader = new FileReader();\n",
              "      reader.onload = (e) => {\n",
              "        resolve(e.target.result);\n",
              "      };\n",
              "      reader.readAsArrayBuffer(file);\n",
              "    });\n",
              "    // Wait for the data to be ready.\n",
              "    let fileData = yield {\n",
              "      promise: fileDataPromise,\n",
              "      response: {\n",
              "        action: 'continue',\n",
              "      }\n",
              "    };\n",
              "\n",
              "    // Use a chunked sending to avoid message size limits. See b/62115660.\n",
              "    let position = 0;\n",
              "    do {\n",
              "      const length = Math.min(fileData.byteLength - position, MAX_PAYLOAD_SIZE);\n",
              "      const chunk = new Uint8Array(fileData, position, length);\n",
              "      position += length;\n",
              "\n",
              "      const base64 = btoa(String.fromCharCode.apply(null, chunk));\n",
              "      yield {\n",
              "        response: {\n",
              "          action: 'append',\n",
              "          file: file.name,\n",
              "          data: base64,\n",
              "        },\n",
              "      };\n",
              "\n",
              "      let percentDone = fileData.byteLength === 0 ?\n",
              "          100 :\n",
              "          Math.round((position / fileData.byteLength) * 100);\n",
              "      percent.textContent = `${percentDone}% done`;\n",
              "\n",
              "    } while (position < fileData.byteLength);\n",
              "  }\n",
              "\n",
              "  // All done.\n",
              "  yield {\n",
              "    response: {\n",
              "      action: 'complete',\n",
              "    }\n",
              "  };\n",
              "}\n",
              "\n",
              "scope.google = scope.google || {};\n",
              "scope.google.colab = scope.google.colab || {};\n",
              "scope.google.colab._files = {\n",
              "  _uploadFiles,\n",
              "  _uploadFilesContinue,\n",
              "};\n",
              "})(self);\n",
              "</script> "
            ]
          },
          "metadata": {}
        },
        {
          "output_type": "stream",
          "name": "stdout",
          "text": [
            "Saving AirplaneCrashes andFatalitiesupto2023.zip to AirplaneCrashes andFatalitiesupto2023.zip\n"
          ]
        }
      ]
    },
    {
      "cell_type": "code",
      "source": [
        "import zipfile\n",
        "import os\n",
        "\n",
        "zip_path = \"/content/AirplaneCrashes andFatalitiesupto2023.zip\"  # your zip file\n",
        "\n",
        "# Create a folder to extract into\n",
        "extract_folder = \"/content/AirplaneCrashes andFatalitiesupto2023\"\n",
        "\n",
        "with zipfile.ZipFile(zip_path, 'r') as zip_ref:\n",
        "    zip_ref.extractall(extract_folder)\n",
        "\n",
        "# Check extracted files\n",
        "print(os.listdir(extract_folder))"
      ],
      "metadata": {
        "colab": {
          "base_uri": "https://localhost:8080/"
        },
        "id": "Cbry8vGgNzTT",
        "outputId": "ea20d978-eed1-4396-c707-742eaba305be"
      },
      "execution_count": 5,
      "outputs": [
        {
          "output_type": "stream",
          "name": "stdout",
          "text": [
            "['Airplane_Crashes_and_Fatalities_Since_1908_t0_2023.csv']\n"
          ]
        }
      ]
    },
    {
      "cell_type": "code",
      "source": [
        "df = pd.read_csv(\"/content/AirplaneCrashes andFatalitiesupto2023/Airplane_Crashes_and_Fatalities_Since_1908_t0_2023.csv\", encoding='latin-1')\n",
        "df.head()\n",
        "df.isnull().sum()"
      ],
      "metadata": {
        "colab": {
          "base_uri": "https://localhost:8080/",
          "height": 617
        },
        "id": "u2EWAJ_EUd6C",
        "outputId": "361e40c2-6594-47bc-b65d-22a195503f27"
      },
      "execution_count": 6,
      "outputs": [
        {
          "output_type": "execute_result",
          "data": {
            "text/plain": [
              "Date                        0\n",
              "Time                     1512\n",
              "Location                    4\n",
              "Operator                   10\n",
              "Flight #                 3669\n",
              "Route                     777\n",
              "AC Type                    15\n",
              "Registration              274\n",
              "cn/ln                     668\n",
              "Aboard                     18\n",
              "Aboard Passangers         229\n",
              "Aboard Crew               226\n",
              "Fatalities                  8\n",
              "Fatalities Passangers     242\n",
              "Fatalities Crew           241\n",
              "Ground                     42\n",
              "Summary                    64\n",
              "dtype: int64"
            ],
            "text/html": [
              "<div>\n",
              "<style scoped>\n",
              "    .dataframe tbody tr th:only-of-type {\n",
              "        vertical-align: middle;\n",
              "    }\n",
              "\n",
              "    .dataframe tbody tr th {\n",
              "        vertical-align: top;\n",
              "    }\n",
              "\n",
              "    .dataframe thead th {\n",
              "        text-align: right;\n",
              "    }\n",
              "</style>\n",
              "<table border=\"1\" class=\"dataframe\">\n",
              "  <thead>\n",
              "    <tr style=\"text-align: right;\">\n",
              "      <th></th>\n",
              "      <th>0</th>\n",
              "    </tr>\n",
              "  </thead>\n",
              "  <tbody>\n",
              "    <tr>\n",
              "      <th>Date</th>\n",
              "      <td>0</td>\n",
              "    </tr>\n",
              "    <tr>\n",
              "      <th>Time</th>\n",
              "      <td>1512</td>\n",
              "    </tr>\n",
              "    <tr>\n",
              "      <th>Location</th>\n",
              "      <td>4</td>\n",
              "    </tr>\n",
              "    <tr>\n",
              "      <th>Operator</th>\n",
              "      <td>10</td>\n",
              "    </tr>\n",
              "    <tr>\n",
              "      <th>Flight #</th>\n",
              "      <td>3669</td>\n",
              "    </tr>\n",
              "    <tr>\n",
              "      <th>Route</th>\n",
              "      <td>777</td>\n",
              "    </tr>\n",
              "    <tr>\n",
              "      <th>AC Type</th>\n",
              "      <td>15</td>\n",
              "    </tr>\n",
              "    <tr>\n",
              "      <th>Registration</th>\n",
              "      <td>274</td>\n",
              "    </tr>\n",
              "    <tr>\n",
              "      <th>cn/ln</th>\n",
              "      <td>668</td>\n",
              "    </tr>\n",
              "    <tr>\n",
              "      <th>Aboard</th>\n",
              "      <td>18</td>\n",
              "    </tr>\n",
              "    <tr>\n",
              "      <th>Aboard Passangers</th>\n",
              "      <td>229</td>\n",
              "    </tr>\n",
              "    <tr>\n",
              "      <th>Aboard Crew</th>\n",
              "      <td>226</td>\n",
              "    </tr>\n",
              "    <tr>\n",
              "      <th>Fatalities</th>\n",
              "      <td>8</td>\n",
              "    </tr>\n",
              "    <tr>\n",
              "      <th>Fatalities Passangers</th>\n",
              "      <td>242</td>\n",
              "    </tr>\n",
              "    <tr>\n",
              "      <th>Fatalities Crew</th>\n",
              "      <td>241</td>\n",
              "    </tr>\n",
              "    <tr>\n",
              "      <th>Ground</th>\n",
              "      <td>42</td>\n",
              "    </tr>\n",
              "    <tr>\n",
              "      <th>Summary</th>\n",
              "      <td>64</td>\n",
              "    </tr>\n",
              "  </tbody>\n",
              "</table>\n",
              "</div><br><label><b>dtype:</b> int64</label>"
            ]
          },
          "metadata": {},
          "execution_count": 6
        }
      ]
    },
    {
      "cell_type": "code",
      "source": [
        "# 1) Fill categorical columns with \"Unknown\"\n",
        "categorical_cols = [\"Time\", \"Location\", \"Operator\", \"Flight #\",\n",
        "                    \"Route\", \"AC Type\", \"Registration\", \"cn/ln\", \"Summary\"]\n",
        "df[categorical_cols] = df[categorical_cols].fillna(\"Unknown\")\n",
        "\n",
        "# 2) Fill numeric \"Aboard\" columns with median\n",
        "aboard_cols = [\"Aboard\", \"Aboard Passangers\", \"Aboard Crew\"]\n",
        "for col in aboard_cols:\n",
        "    df[col] = df[col].fillna(df[col].median())\n",
        "\n",
        "# 3) Fill fatalities-related numeric columns with 0 (assuming missing = none)\n",
        "fatality_cols = [\"Fatalities\", \"Fatalities Passangers\", \"Fatalities Crew\", \"Ground\"]\n",
        "for col in fatality_cols:\n",
        "    df[col] = df[col].fillna(0)\n",
        "\n",
        "# 4) Double-check missing values\n",
        "print(df.isnull().sum())\n"
      ],
      "metadata": {
        "colab": {
          "base_uri": "https://localhost:8080/"
        },
        "id": "B2da_KHSVqed",
        "outputId": "6e7b5acf-5e70-40f5-bc8d-77515eb5c639"
      },
      "execution_count": 7,
      "outputs": [
        {
          "output_type": "stream",
          "name": "stdout",
          "text": [
            "Date                     0\n",
            "Time                     0\n",
            "Location                 0\n",
            "Operator                 0\n",
            "Flight #                 0\n",
            "Route                    0\n",
            "AC Type                  0\n",
            "Registration             0\n",
            "cn/ln                    0\n",
            "Aboard                   0\n",
            "Aboard Passangers        0\n",
            "Aboard Crew              0\n",
            "Fatalities               0\n",
            "Fatalities Passangers    0\n",
            "Fatalities Crew          0\n",
            "Ground                   0\n",
            "Summary                  0\n",
            "dtype: int64\n"
          ]
        }
      ]
    },
    {
      "cell_type": "code",
      "source": [
        "total_crashes = len(df)\n",
        "\n",
        "total_fatalities = df['Fatalities'].sum()\n",
        "\n",
        "total_aboard =df[\"Aboard\"].sum()\n",
        "\n",
        "total_survivors = total_aboard - total_fatalities\n",
        "\n",
        "survival_rate = total_survivors / total_aboard * 100\n",
        "\n",
        "print(\"Total crashes:\", total_crashes)\n",
        "print(\"Total fatalities:\", total_fatalities)\n",
        "print(\"Total survivors:\", total_survivors)\n",
        "print(f\"Survival rate: {survival_rate:.2f}%\")\n",
        "\n"
      ],
      "metadata": {
        "colab": {
          "base_uri": "https://localhost:8080/"
        },
        "id": "hrUuVOmecLj2",
        "outputId": "00107f00-f51a-40c9-fd13-4861023a6149"
      },
      "execution_count": 8,
      "outputs": [
        {
          "output_type": "stream",
          "name": "stdout",
          "text": [
            "Total crashes: 4998\n",
            "Total fatalities: 111644.0\n",
            "Total survivors: 44000.0\n",
            "Survival rate: 28.27%\n"
          ]
        }
      ]
    },
    {
      "cell_type": "code",
      "source": [
        "df[\"Date\"] = pd.to_datetime(df[\"Date\"], errors=\"coerce\")\n",
        "df[\"Year\"] = df[\"Date\"].dt.year\n",
        "crashes_per_year = df.groupby(\"Year\").size()\n",
        "\n",
        "print(crashes_per_year.head(10))\n",
        "\n",
        "plt.figure(figsize=(10,4))\n",
        "crashes_per_year.plot(kind=\"line\")\n",
        "plt.title(\"Number of Crashes per Year\")\n",
        "plt.xlabel(\"Year\")\n",
        "plt.ylabel(\"Crashes\")\n",
        "plt.grid(True)\n",
        "plt.show()\n"
      ],
      "metadata": {
        "colab": {
          "base_uri": "https://localhost:8080/",
          "height": 618
        },
        "id": "x6WXTOPkcLdB",
        "outputId": "c4d357a7-846d-4528-9978-1f436e68d214"
      },
      "execution_count": 9,
      "outputs": [
        {
          "output_type": "stream",
          "name": "stdout",
          "text": [
            "Year\n",
            "1908     1\n",
            "1909     1\n",
            "1912     1\n",
            "1913     3\n",
            "1915     2\n",
            "1916     5\n",
            "1917     7\n",
            "1918     4\n",
            "1919     9\n",
            "1920    18\n",
            "dtype: int64\n"
          ]
        },
        {
          "output_type": "display_data",
          "data": {
            "text/plain": [
              "<Figure size 1000x400 with 1 Axes>"
            ],
            "image/png": "[encoded data removed]"
          },
          "metadata": {}
        }
      ]
    },
    {
      "cell_type": "code",
      "source": [
        "df[\"Survivors\"] = df[\"Aboard\"] - df[\"Fatalities\"]\n",
        "\n",
        "df[\"SurvivalRate\"] = (df[\"Survivors\"] / df[\"Aboard\"]) * 100\n",
        "\n",
        "df = df[df[\"Aboard\"] > 0]\n",
        "\n",
        "fatalities = df[\"Fatalities\"].dropna()\n",
        "print(\"Fatalities per crash - mean:\", np.mean(fatalities))\n",
        "print(\"Fatalities per crash - median:\", np.median(fatalities))\n",
        "print(\"Fatalities per crash - std:\", np.std(fatalities, ddof=1))\n",
        "\n",
        "survival = df[\"SurvivalRate\"].dropna()\n",
        "print(\"\\nSurvival rate (%) - mean:\", np.mean(survival))\n",
        "print(\"Survival rate (%) - median:\", np.median(survival))\n",
        "print(\"Survival rate (%) - std:\", np.std(survival, ddof=1))\n"
      ],
      "metadata": {
        "colab": {
          "base_uri": "https://localhost:8080/"
        },
        "id": "Rjnnw32GcLZe",
        "outputId": "57132a98-b128-487e-b88b-37bd1a29fee3"
      },
      "execution_count": 13,
      "outputs": [
        {
          "output_type": "stream",
          "name": "stdout",
          "text": [
            "Fatalities per crash - mean: 22.360104145804126\n",
            "Fatalities per crash - median: 11.0\n",
            "Fatalities per crash - std: 35.055492103117224\n",
            "\n",
            "Survival rate (%) - mean: 18.340083550385586\n",
            "Survival rate (%) - median: 0.0\n",
            "Survival rate (%) - std: 31.38778374752486\n"
          ]
        },
        {
          "output_type": "stream",
          "name": "stderr",
          "text": [
            "/tmp/ipython-input-2132556024.py:1: SettingWithCopyWarning: \n",
            "A value is trying to be set on a copy of a slice from a DataFrame.\n",
            "Try using .loc[row_indexer,col_indexer] = value instead\n",
            "\n",
            "See the caveats in the documentation: https://pandas.pydata.org/pandas-docs/stable/user_guide/indexing.html#returning-a-view-versus-a-copy\n",
            "  df[\"Survivors\"] = df[\"Aboard\"] - df[\"Fatalities\"]\n",
            "/tmp/ipython-input-2132556024.py:3: SettingWithCopyWarning: \n",
            "A value is trying to be set on a copy of a slice from a DataFrame.\n",
            "Try using .loc[row_indexer,col_indexer] = value instead\n",
            "\n",
            "See the caveats in the documentation: https://pandas.pydata.org/pandas-docs/stable/user_guide/indexing.html#returning-a-view-versus-a-copy\n",
            "  df[\"SurvivalRate\"] = (df[\"Survivors\"] / df[\"Aboard\"]) * 100\n"
          ]
        }
      ]
    },
    {
      "cell_type": "code",
      "source": [
        "# Ensure Date is datetime and add decade\n",
        "df[\"Date\"] = pd.to_datetime(df[\"Date\"], errors=\"coerce\")\n",
        "df[\"Decade\"] = (df[\"Date\"].dt.year // 10) * 10\n",
        "\n",
        "# Pick two decades\n",
        "fatal_1970s = df.loc[df[\"Decade\"] == 1970, \"Fatalities\"].dropna()\n",
        "fatal_2000s = df.loc[df[\"Decade\"] == 2000, \"Fatalities\"].dropna()\n",
        "\n",
        "# Independent T-test\n",
        "t_stat, p_val = stats.ttest_ind(fatal_1970s, fatal_2000s, equal_var=False)\n",
        "\n",
        "print(\"\\nT-test 1970s vs 2000s\")\n",
        "print(\"t-statistic:\", t_stat)\n",
        "print(\"p-value:\", p_val)\n",
        "\n",
        "if p_val < 0.05:\n",
        "    print(\"Reject H₀ → average fatalities differ significantly.\")\n",
        "else:\n",
        "    print(\"Fail to reject H₀ → no significant difference.\")\n"
      ],
      "metadata": {
        "colab": {
          "base_uri": "https://localhost:8080/"
        },
        "id": "CPG89FfTcLOB",
        "outputId": "7c08f718-5806-4fda-be3e-08926f70a6dc"
      },
      "execution_count": 15,
      "outputs": [
        {
          "output_type": "stream",
          "name": "stdout",
          "text": [
            "\n",
            "T-test 1970s vs 2000s\n",
            "t-statistic: 3.9853719977880306\n",
            "p-value: 7.175237091088752e-05\n",
            "Reject H₀ → average fatalities differ significantly.\n"
          ]
        }
      ]
    },
    {
      "cell_type": "code",
      "source": [
        "# 3) Survivors & Survival rate\n",
        "# (avoid divide-by-zero and NaNs)\n",
        "df[\"Survivors\"] = df[\"Aboard\"] - df[\"Fatalities\"]\n",
        "df = df[df[\"Aboard\"].notna()]               # keep rows with Aboard present\n",
        "df = df[df[\"Aboard\"] > 0]                   # avoid zero aboard\n",
        "df[\"SurvivalRate\"] = (df[\"Survivors\"] / df[\"Aboard\"]) * 100\n",
        "\n",
        "# 4) Optional: extract a rough \"Country/Region\" from Location as the last token after comma\n",
        "# Example: \"Paris, France\" -> \"France\"\n",
        "def last_token(loc):\n",
        "    if pd.isna(loc):\n",
        "        return np.nan\n",
        "    parts = [p.strip() for p in str(loc).split(\",\")]\n",
        "    return parts[-1] if parts else np.nan\n",
        "\n",
        "df[\"Region\"] = df[\"Location\"].apply(last_token)\n",
        "\n",
        "# Set a common style\n",
        "sns.set(style=\"whitegrid\")"
      ],
      "metadata": {
        "id": "1ayIlA_gebbp"
      },
      "execution_count": null,
      "outputs": []
    },
    {
      "cell_type": "code",
      "source": [
        "crashes_per_year = df.groupby(\"Year\").size().rename(\"Crashes\").reset_index()\n",
        "\n",
        "plt.figure(figsize=(11,4))\n",
        "sns.lineplot(data=crashes_per_year, x=\"Year\", y=\"Crashes\")\n",
        "plt.title(\"Crashes per Year\")\n",
        "plt.xlabel(\"Year\")\n",
        "plt.ylabel(\"Number of Crashes\")\n",
        "plt.tight_layout()\n",
        "plt.show()\n"
      ],
      "metadata": {
        "id": "ZQ6SHfPFiX-_"
      },
      "execution_count": null,
      "outputs": []
    },
    {
      "cell_type": "code",
      "source": [
        "top_regions = (\n",
        "    df[\"Region\"]\n",
        "    .dropna()\n",
        "    .value_counts()\n",
        "    .head(15)\n",
        "    .rename_axis(\"Region\")\n",
        "    .reset_index(name=\"Crashes\")\n",
        ")\n",
        "\n",
        "plt.figure(figsize=(10,6))\n",
        "sns.barplot(data=top_regions, x=\"Crashes\", y=\"Region\")\n",
        "plt.title(\"Crashes by Region (Top 15)\")\n",
        "plt.xlabel(\"Crashes\")\n",
        "plt.ylabel(\"Region\")\n",
        "plt.tight_layout()\n",
        "plt.show()\n"
      ],
      "metadata": {
        "id": "CKN9GZ8ii7YZ"
      },
      "execution_count": null,
      "outputs": []
    },
    {
      "cell_type": "code",
      "source": [
        "plt.figure(figsize=(9,4))\n",
        "sns.histplot(df[\"Fatalities\"].dropna(), bins=40, kde=True)\n",
        "plt.title(\"Distribution of Fatalities per Crash\")\n",
        "plt.xlabel(\"Fatalities\")\n",
        "plt.ylabel(\"Count\")\n",
        "plt.tight_layout()\n",
        "plt.show()\n"
      ],
      "metadata": {
        "id": "O-ys60rii7au"
      },
      "execution_count": null,
      "outputs": []
    },
    {
      "cell_type": "code",
      "source": [
        "# keep decades with enough data (>= 10 rows)\n",
        "decade_counts = df[\"Decade\"].value_counts()\n",
        "keep_decades = decade_counts[decade_counts >= 10].index\n",
        "\n",
        "plt.figure(figsize=(11,5))\n",
        "sns.boxplot(\n",
        "    data=df[df[\"Decade\"].isin(keep_decades)],\n",
        "    x=\"Decade\", y=\"Fatalities\", showfliers=False\n",
        ")\n",
        "plt.title(\"Fatalities per Crash by Decade (outliers hidden)\")\n",
        "plt.xlabel(\"Decade\")\n",
        "plt.ylabel(\"Fatalities per Crash\")\n",
        "plt.tight_layout()\n",
        "plt.show()\n"
      ],
      "metadata": {
        "id": "EGCKnxX9i7hk"
      },
      "execution_count": null,
      "outputs": []
    },
    {
      "cell_type": "code",
      "source": [
        "plt.figure(figsize=(9,4))\n",
        "sns.histplot(df[\"SurvivalRate\"].dropna(), bins=40, kde=True)\n",
        "plt.title(\"Distribution of Survival Rate per Crash (%)\")\n",
        "plt.xlabel(\"Survival Rate (%)\")\n",
        "plt.ylabel(\"Count\")\n",
        "plt.tight_layout()\n",
        "plt.show()\n",
        "\n",
        "plt.figure(figsize=(11,5))\n",
        "sns.boxplot(\n",
        "    data=df[df[\"Decade\"].isin(keep_decades)],\n",
        "    x=\"Decade\", y=\"SurvivalRate\", showfliers=False\n",
        ")\n",
        "plt.title(\"Survival Rate (%) by Decade (outliers hidden)\")\n",
        "plt.xlabel(\"Decade\")\n",
        "plt.ylabel(\"Survival Rate (%)\")\n",
        "plt.tight_layout()\n",
        "plt.show()\n"
      ],
      "metadata": {
        "id": "yKXKeRuWi7ju"
      },
      "execution_count": null,
      "outputs": []
    },
    {
      "cell_type": "markdown",
      "source": [
        "Crash Dataset Report\n",
        "A. Executive summary\n",
        "\n",
        "Crashes peaked around 1940s–1970s, then declined after 1980s.\n",
        "\n",
        "Median fatalities per crash decreased over decades → safety improvements.\n",
        "\n",
        "Survival rates improved in recent decades.\n",
        "\n",
        "Regions with most recorded crashes: USA, Russia, Brazil (example — check your top 3).\n",
        "\n",
        "B. Dataset & cleaning\n",
        "\n",
        "Converted Date → datetime; built Year, Decade.\n",
        "\n",
        "Computed Survivors, SurvivalRate (removed Aboard=0).\n",
        "\n",
        "Extracted Region from Location (last token after comma).\n",
        "\n",
        "C. Descriptive statistics\n",
        "\n",
        "Total crashes: ~N\n",
        "\n",
        "Total aboard: ~X\n",
        "\n",
        "Total fatalities: ~Y\n",
        "\n",
        "Total survivors: ~Z\n",
        "\n",
        "Overall survival rate: ~R%\n",
        "\n",
        "Median fatalities per crash: ~m\n",
        "\n",
        "IQR (25%–75%): [l, u]\n",
        "\n",
        "D. Trends over time\n",
        "\n",
        "Crashes per year: declining since ~1980s.\n",
        "\n",
        "Fatalities per year: also declining, fewer deaths per crash.\n",
        "\n",
        "By decade: boxplots show earlier decades higher medians, later decades lower medians.\n",
        "\n",
        "E. Group differences\n",
        "\n",
        "T-test: 1970s vs 2000s fatalities per crash.\n",
        "\n",
        "t = [value], p = [value] → likely significant difference.\n",
        "\n",
        "Interpretation: crashes in 1970s were deadlier on average than in 2000s.\n",
        "\n",
        "F. Regional view\n",
        "\n",
        "Top 5 regions (by crash count): [fill with df[\"Region\"].value_counts().head(5)].\n",
        "\n",
        "Counts reflect traffic/reporting density, not just safety.\n",
        "\n",
        "G. Limitations\n",
        "\n",
        "Missing values in Time, Route, Registration.\n",
        "\n",
        "Region extraction is approximate.\n",
        "\n",
        "Dataset mixes commercial, military, private flights.\n",
        "\n",
        "Survival rate depends on accurate Aboard/Fatalities reporting.\n",
        "\n",
        "H. Recommendations / next steps\n",
        "\n",
        "Normalize by flights per year (rates, not raw counts).\n",
        "\n",
        "Add more features: aircraft type, phase, weather.\n",
        "\n",
        "Use median/IQR instead of mean for robustness.\n",
        "\n",
        "Explore fatalities per passenger-mile for truer risk comparisons."
      ],
      "metadata": {
        "id": "EJ-GDmYPk537"
      }
    }
  ]
}