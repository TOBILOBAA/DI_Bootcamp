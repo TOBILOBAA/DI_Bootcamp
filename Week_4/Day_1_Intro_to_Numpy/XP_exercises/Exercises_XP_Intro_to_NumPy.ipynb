{
  "nbformat": 4,
  "nbformat_minor": 0,
  "metadata": {
    "colab": {
      "provenance": []
    },
    "kernelspec": {
      "name": "python3",
      "display_name": "Python 3"
    },
    "language_info": {
      "name": "python"
    }
  },
  "cells": [
    {
      "cell_type": "code",
      "execution_count": null,
      "metadata": {
        "colab": {
          "base_uri": "https://localhost:8080/"
        },
        "collapsed": true,
        "id": "Xo1lflM_NxOY",
        "outputId": "6ab085e5-110c-42d9-a04b-40a333887074"
      },
      "outputs": [
        {
          "output_type": "stream",
          "name": "stdout",
          "text": [
            "1D Array: [0 1 2 3 4 5 6 7 8 9]\n"
          ]
        }
      ],
      "source": [
        "import numpy as np\n",
        "array_1d = np.array([0, 1, 2, 3, 4, 5, 6, 7, 8, 9])\n",
        "print(\"1D Array:\", array_1d)"
      ]
    },
    {
      "cell_type": "code",
      "source": [
        "array_1d_int = np.array([3.14, 2.17, 0, 1, 2]).astype(int)\n",
        "print(\"1D Array Integer:\", array_1d_int)"
      ],
      "metadata": {
        "colab": {
          "base_uri": "https://localhost:8080/"
        },
        "id": "2gqzvryaybWt",
        "outputId": "93cf8ef0-35f2-468d-c85a-198f89304772"
      },
      "execution_count": null,
      "outputs": [
        {
          "output_type": "stream",
          "name": "stdout",
          "text": [
            "1D Array Integer: [3 2 0 1 2]\n"
          ]
        }
      ]
    },
    {
      "cell_type": "code",
      "source": [
        "array_2d = np.array([[1, 2, 3],[4, 5, 6],[7, 8, 9]])\n",
        "print(\"2D Array:\\n\", array_2d)"
      ],
      "metadata": {
        "colab": {
          "base_uri": "https://localhost:8080/"
        },
        "id": "Ud8TEfLHzbEq",
        "outputId": "a53a4328-569f-43dd-8e35-452434580d5f"
      },
      "execution_count": null,
      "outputs": [
        {
          "output_type": "stream",
          "name": "stdout",
          "text": [
            "2D Array:\n",
            " [[1 2 3]\n",
            " [4 5 6]\n",
            " [7 8 9]]\n"
          ]
        }
      ]
    },
    {
      "cell_type": "code",
      "source": [
        "random_2darray = np.random.randint(20,42, size=(4,5))\n",
        "print(\"random_2darray:\\n\",random_2darray)"
      ],
      "metadata": {
        "colab": {
          "base_uri": "https://localhost:8080/"
        },
        "id": "vtfeT5AC0Hcn",
        "outputId": "5210cca0-373a-4199-af9a-fa6b827f5ac2"
      },
      "execution_count": null,
      "outputs": [
        {
          "output_type": "stream",
          "name": "stdout",
          "text": [
            "random_2darray:\n",
            " [[41 25 39 22 24]\n",
            " [30 20 36 31 41]\n",
            " [31 35 20 40 21]\n",
            " [34 38 24 24 40]]\n"
          ]
        }
      ]
    },
    {
      "cell_type": "code",
      "source": [
        "array = np.array([[21,22,23,22,22],[20, 21, 22, 23, 24],[21,22,23,22,22]])\n",
        "print(\"Second row:\", array[2,:])"
      ],
      "metadata": {
        "colab": {
          "base_uri": "https://localhost:8080/"
        },
        "id": "jXHSQZ6S1SRO",
        "outputId": "bd0888c6-ce69-45ec-f2ee-63b757791d77"
      },
      "execution_count": null,
      "outputs": [
        {
          "output_type": "stream",
          "name": "stdout",
          "text": [
            "Second row [21 22 23 22 22]\n"
          ]
        }
      ]
    },
    {
      "cell_type": "code",
      "source": [
        "array_1d = np.array([9, 8, 7, 6, 5, 4, 3, 2, 1, 0])\n",
        "reversed_array_1d = array_1d[::-1]\n",
        "print(\"Reversed Array:\", reversed_array_1d)"
      ],
      "metadata": {
        "colab": {
          "base_uri": "https://localhost:8080/"
        },
        "id": "t2N78DLT3pYk",
        "outputId": "1a424e59-f3ec-4622-8511-358d3a9701e1"
      },
      "execution_count": null,
      "outputs": [
        {
          "output_type": "stream",
          "name": "stdout",
          "text": [
            "Reversed Array: [0 1 2 3 4 5 6 7 8 9]\n"
          ]
        }
      ]
    },
    {
      "cell_type": "code",
      "source": [
        "array_2d = np.array([[1., 0., 0., 0.], [0., 1., 0., 0.,], [0., 0., 1., 0.,], [0., 0., 0., 1.,]])\n",
        "print(\"4x4 Identity Matirx:\\n\",array_2d)"
      ],
      "metadata": {
        "colab": {
          "base_uri": "https://localhost:8080/"
        },
        "id": "12fTmtoJ454V",
        "outputId": "d5a96dce-0649-4163-dc54-3ffd7670eda2"
      },
      "execution_count": null,
      "outputs": [
        {
          "output_type": "stream",
          "name": "stdout",
          "text": [
            "4x4 Identity Matirx:\n",
            " [[1. 0. 0. 0.]\n",
            " [0. 1. 0. 0.]\n",
            " [0. 0. 1. 0.]\n",
            " [0. 0. 0. 1.]]\n"
          ]
        }
      ]
    },
    {
      "cell_type": "code",
      "source": [
        "array_1d = np.array([3, 4, 4, 4, 4, 5, 5, 5, 5, 6])\n",
        "total_sum = sum(array_1d)\n",
        "average_value = np.mean(array_1d)\n",
        "print(\"Total Sum:\", total_sum)\n",
        "print(\"Average Value:\", average_value)"
      ],
      "metadata": {
        "colab": {
          "base_uri": "https://localhost:8080/"
        },
        "id": "Ij9MBNDM5nYu",
        "outputId": "6bb947eb-24e0-4631-ebb6-7a206ec03cd6"
      },
      "execution_count": null,
      "outputs": [
        {
          "output_type": "stream",
          "name": "stdout",
          "text": [
            "Total Sum: 45\n",
            "Average Value: 4.5\n"
          ]
        }
      ]
    },
    {
      "cell_type": "code",
      "source": [
        "one_to_twenty = np.arange(1, 21).reshape(4,5)\n",
        "print(\"Array from 1 to 20:\", one_to_twenty)"
      ],
      "metadata": {
        "colab": {
          "base_uri": "https://localhost:8080/"
        },
        "id": "2_vtLGpV7JsI",
        "outputId": "01c2d976-5c3a-4c31-9480-18592055d598"
      },
      "execution_count": null,
      "outputs": [
        {
          "output_type": "stream",
          "name": "stdout",
          "text": [
            "Array from 1 to 20: [[ 1  2  3  4  5]\n",
            " [ 6  7  8  9 10]\n",
            " [11 12 13 14 15]\n",
            " [16 17 18 19 20]]\n"
          ]
        }
      ]
    },
    {
      "cell_type": "code",
      "source": [
        "array_odd = np.array([1, 3, 5, 7, 9])\n",
        "odd_numbers = array_odd[array_odd % 2 !=0]\n",
        "print(\"Odd Numbers:\", odd_numbers)"
      ],
      "metadata": {
        "colab": {
          "base_uri": "https://localhost:8080/"
        },
        "id": "_i4MIHon8BoV",
        "outputId": "879d4af1-35e3-4b01-82ef-11a5b13fd802"
      },
      "execution_count": null,
      "outputs": [
        {
          "output_type": "stream",
          "name": "stdout",
          "text": [
            "Odd Numbers: [1 3 5 7 9]\n"
          ]
        }
      ]
    },
    {
      "cell_type": "code",
      "source": [],
      "metadata": {
        "id": "h16zFppc8qc9"
      },
      "execution_count": null,
      "outputs": []
    }
  ]
}