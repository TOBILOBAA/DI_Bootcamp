{
  "nbformat": 4,
  "nbformat_minor": 0,
  "metadata": {
    "colab": {
      "provenance": []
    },
    "kernelspec": {
      "name": "python3",
      "display_name": "Python 3"
    },
    "language_info": {
      "name": "python"
    }
  },
  "cells": [
    {
      "cell_type": "code",
      "source": [
        "import numpy as np\n",
        "\n",
        "A = np.array([[1, 2, 3],\n",
        "              [0, 1, 4],\n",
        "              [5, 6, 0]])\n",
        "\n",
        "det = np.linalg.det(A)\n",
        "print(\"Determinant:\", det)\n",
        "\n",
        "if det !=0:\n",
        "    inv = np.linalg.inv(A)\n",
        "    print(\"Inverse:\\n\", inv)\n",
        "else:\n",
        "      print(\"Matrix has no inverse.\")"
      ],
      "metadata": {
        "id": "N_-tKppUKFUh",
        "colab": {
          "base_uri": "https://localhost:8080/"
        },
        "collapsed": true,
        "outputId": "08e239b9-5341-4709-9ca0-22a551b28887"
      },
      "execution_count": 2,
      "outputs": [
        {
          "output_type": "stream",
          "name": "stdout",
          "text": [
            "Determinant: 0.9999999999999964\n",
            "Inverse:\n",
            " [[-24.  18.   5.]\n",
            " [ 20. -15.  -4.]\n",
            " [ -5.   4.   1.]]\n"
          ]
        }
      ]
    },
    {
      "cell_type": "code",
      "source": [
        "import random\n",
        "random_num = np.random.randint(0, 50, 50)\n",
        "\n",
        "mean_value = np.mean(random_num)\n",
        "median_value = np.median(random_num)\n",
        "std_value = np.std(random_num)\n",
        "\n",
        "print(\"Mean:\", mean_value)\n",
        "print(\"Median:\", median_value)\n",
        "print(\"Standard Deviation:\", std_value)\n"
      ],
      "metadata": {
        "id": "7Cg4XiZdLSvE",
        "colab": {
          "base_uri": "https://localhost:8080/"
        },
        "collapsed": true,
        "outputId": "711dd34f-c560-4051-adfe-937ad3c37306"
      },
      "execution_count": 3,
      "outputs": [
        {
          "output_type": "stream",
          "name": "stdout",
          "text": [
            "Mean: 26.36\n",
            "Median: 25.0\n",
            "Standard Deviation: 12.818361829812732\n"
          ]
        }
      ]
    },
    {
      "cell_type": "code",
      "source": [
        "jan_2023_dates = np.arange(\"2023-01\", \"2023-02\", dtype=\"datetime64[D]\")\n",
        "print(\"January 2023 dates:\")\n",
        "print(jan_2023_dates)"
      ],
      "metadata": {
        "colab": {
          "base_uri": "https://localhost:8080/"
        },
        "collapsed": true,
        "id": "nnUzKf8ePQpc",
        "outputId": "195000a9-13ed-4a4c-d5ec-cc5ab9b89cda"
      },
      "execution_count": 4,
      "outputs": [
        {
          "output_type": "stream",
          "name": "stdout",
          "text": [
            "January 2023 dates:\n",
            "['2023-01-01' '2023-01-02' '2023-01-03' '2023-01-04' '2023-01-05'\n",
            " '2023-01-06' '2023-01-07' '2023-01-08' '2023-01-09' '2023-01-10'\n",
            " '2023-01-11' '2023-01-12' '2023-01-13' '2023-01-14' '2023-01-15'\n",
            " '2023-01-16' '2023-01-17' '2023-01-18' '2023-01-19' '2023-01-20'\n",
            " '2023-01-21' '2023-01-22' '2023-01-23' '2023-01-24' '2023-01-25'\n",
            " '2023-01-26' '2023-01-27' '2023-01-28' '2023-01-29' '2023-01-30'\n",
            " '2023-01-31']\n"
          ]
        }
      ]
    },
    {
      "cell_type": "code",
      "source": [
        "random = np.random.randint(1, 100, 50)\n",
        "if np.any(random % 2 == 0):\n",
        "  print(\"Sum of all numbers:\", np.sum(random))\n",
        "else:\n",
        "  print(\"Average of all numbers:\", np.mean(random))"
      ],
      "metadata": {
        "colab": {
          "base_uri": "https://localhost:8080/"
        },
        "id": "-BHbaeCxS3dG",
        "outputId": "68baecc7-4313-4269-de28-9f5286b32cbb"
      },
      "execution_count": 5,
      "outputs": [
        {
          "output_type": "stream",
          "name": "stdout",
          "text": [
            "Sum of all numbers: 2289\n"
          ]
        }
      ]
    },
    {
      "cell_type": "markdown",
      "source": [
        "Images are just grids of numbers, and NumPy stores them in arrays."
      ],
      "metadata": {
        "id": "8_8P4Ul6n2Zd"
      }
    },
    {
      "cell_type": "code",
      "source": [
        "import numpy as np\n",
        "import matplotlib.pyplot as plt\n",
        "\n",
        "# make a 5x5 grayscale \"image\"\n",
        "image = np.array([\n",
        "    [  0,  50, 100, 150, 200],\n",
        "    [ 10,  60, 110, 160, 210],\n",
        "    [ 20,  70, 120, 170, 220],\n",
        "    [ 30,  80, 130, 180, 230],\n",
        "    [ 40,  90, 140, 190, 240]\n",
        "])\n",
        "\n",
        "print(\"This is the array:\\n\", image)\n",
        "\n",
        "# show it as an image\n",
        "plt.imshow(image, cmap=\"gray\")\n",
        "plt.colorbar()\n",
        "plt.show()\n"
      ],
      "metadata": {
        "colab": {
          "base_uri": "https://localhost:8080/",
          "height": 534
        },
        "collapsed": true,
        "id": "DZgE3eNUUgli",
        "outputId": "05fadff6-24ee-47b0-c84b-a841e7d0a497"
      },
      "execution_count": 6,
      "outputs": [
        {
          "output_type": "stream",
          "name": "stdout",
          "text": [
            "This is the array:\n",
            " [[  0  50 100 150 200]\n",
            " [ 10  60 110 160 210]\n",
            " [ 20  70 120 170 220]\n",
            " [ 30  80 130 180 230]\n",
            " [ 40  90 140 190 240]]\n"
          ]
        },
        {
          "output_type": "display_data",
          "data": {
            "text/plain": [
              "<Figure size 640x480 with 2 Axes>"
            ],
            "image/png": "[encoded data removed]"
          },
          "metadata": {}
        }
      ]
    },
    {
      "cell_type": "code",
      "source": [
        "productivity_before = np.random.normal(loc=50, scale=10, size=30)\n",
        "productivity_after = productivity_before + np.random.normal(loc=5, scale=3, size=30)\n",
        "\n",
        "mean_before = np.mean(productivity_before)\n",
        "mean_after = np.mean(productivity_after)\n",
        "\n",
        "print(\"Average before training:\", mean_before)\n",
        "print(\"Average after training:\", mean_after)\n",
        "print(\"Difference (afrter - before):\", mean_after - mean_before)\n",
        "\n",
        "if mean_after > mean_before:\n",
        "  print(\"Looks like trianing improvred productivity!\")\n",
        "else:\n",
        "  print(\"Training did not improve productivity.\")"
      ],
      "metadata": {
        "colab": {
          "base_uri": "https://localhost:8080/"
        },
        "id": "JtOw_4q2neCF",
        "outputId": "f7227622-1922-47b1-ebb7-cc38fb0ea185"
      },
      "execution_count": 7,
      "outputs": [
        {
          "output_type": "stream",
          "name": "stdout",
          "text": [
            "Average before training: 51.15208706627363\n",
            "Average after training: 56.11147161483763\n",
            "Difference (afrter - before): 4.959384548564003\n",
            "Looks like trianing improvred productivity!\n"
          ]
        }
      ]
    },
    {
      "cell_type": "code",
      "source": [
        "array_1 = np.array([2, 6, 8])\n",
        "array_2 = np.array([[10, 47, 1], [0, 7, 23]])\n",
        "\n",
        "comparison = array_1 > array_2\n",
        "print(\"Comparison:\", comparison)"
      ],
      "metadata": {
        "colab": {
          "base_uri": "https://localhost:8080/"
        },
        "id": "MLdOyWPsXPMg",
        "outputId": "021c00c3-0bcd-4aac-ea80-55787ef2b6f5"
      },
      "execution_count": 12,
      "outputs": [
        {
          "output_type": "stream",
          "name": "stdout",
          "text": [
            "Array 1: [2 6 8]\n",
            "Array 2:\n",
            " [[10 47  1]\n",
            " [ 0  7 23]]\n",
            "Comparison: [[False False  True]\n",
            " [ True False False]]\n"
          ]
        }
      ]
    },
    {
      "cell_type": "code",
      "source": [
        "year_2023 = np.arange(\"2023-01\", \"2024-01\", dtype=\"datetime64[M]\")\n",
        "print(\"The Year 2023:\")\n",
        "print(year_2023)\n",
        "\n",
        "first_quarter = year_2023[0:3]\n",
        "second_quarter = year_2023[3:6]\n",
        "third_quarter = year_2023[6:9]\n",
        "fourth_quarter = year_2023[9:12]\n",
        "print(first_quarter)\n",
        "print(second_quarter)\n",
        "print(third_quarter)\n",
        "print(fourth_quarter)\n"
      ],
      "metadata": {
        "colab": {
          "base_uri": "https://localhost:8080/"
        },
        "id": "EZinnOLgcBM_",
        "outputId": "71ed6fc0-7a74-482a-929d-d82c56a0143a"
      },
      "execution_count": 30,
      "outputs": [
        {
          "output_type": "stream",
          "name": "stdout",
          "text": [
            "The Year 2023:\n",
            "['2023-01' '2023-02' '2023-03' '2023-04' '2023-05' '2023-06' '2023-07'\n",
            " '2023-08' '2023-09' '2023-10' '2023-11' '2023-12']\n",
            "['2023-01' '2023-02' '2023-03']\n",
            "['2023-04' '2023-05' '2023-06']\n",
            "['2023-07' '2023-08' '2023-09']\n",
            "['2023-10' '2023-11' '2023-12']\n"
          ]
        }
      ]
    },
    {
      "cell_type": "code",
      "source": [
        "import pandas as pd\n",
        "\n",
        "#convert NumPy array into a Pandas DataFrame\n",
        "num_py_array = np.array([[1, 2, 4], [5, 7, 23]])\n",
        "df = pd.DataFrame(num_py_array)\n",
        "print(df)\n",
        "\n",
        "data = {'Name': ['Alice', 'Bob'], 'Age': [25, 30]}\n",
        "df = pd.DataFrame(data)\n",
        "\n",
        "num_py_array = df.to_numpy()\n",
        "print(num_py_array)"
      ],
      "metadata": {
        "colab": {
          "base_uri": "https://localhost:8080/"
        },
        "id": "7k0HCloZe7oW",
        "outputId": "e3a743df-5422-4bfa-acd0-ac534680b6d5"
      },
      "execution_count": 33,
      "outputs": [
        {
          "output_type": "stream",
          "name": "stdout",
          "text": [
            "   0  1   2\n",
            "0  1  2   4\n",
            "1  5  7  23\n",
            "[['Alice' 25]\n",
            " ['Bob' 30]]\n"
          ]
        }
      ]
    },
    {
      "cell_type": "code",
      "source": [
        "import matplotlib.pyplot as plt\n",
        "\n",
        "cities = [\"New York\", \"Los Angeles\", \"Chicago\", \"Houston\", \"Phoenix\"]\n",
        "temp = [13, 6, -6, 23, 19]\n",
        "plt.plot(cities, temp, marker=\"o\", linestyle=\"--\", linewidth=1.5)\n",
        "plt.xlabel(\"City\")\n",
        "plt.ylabel(\"Temperature (°C)\")\n",
        "plt.title(\"Temperature in Cities\", fontweight=\"bold\")\n",
        "plt.show()\n"
      ],
      "metadata": {
        "colab": {
          "base_uri": "https://localhost:8080/",
          "height": 472
        },
        "id": "2FQND1XJi6Jw",
        "outputId": "de2d5137-5c5b-47c7-edac-5236e1bc1176"
      },
      "execution_count": 43,
      "outputs": [
        {
          "output_type": "display_data",
          "data": {
            "text/plain": [
              "<Figure size 640x480 with 1 Axes>"
            ],
            "image/png": "[encoded data removed]"
          },
          "metadata": {}
        }
      ]
    },
    {
      "cell_type": "code",
      "source": [],
      "metadata": {
        "id": "M-Krg7CYkU-u"
      },
      "execution_count": null,
      "outputs": []
    }
  ]
}