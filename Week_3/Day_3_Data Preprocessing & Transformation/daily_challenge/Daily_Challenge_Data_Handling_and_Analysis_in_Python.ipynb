{
  "nbformat": 4,
  "nbformat_minor": 0,
  "metadata": {
    "colab": {
      "provenance": []
    },
    "kernelspec": {
      "name": "python3",
      "display_name": "Python 3"
    },
    "language_info": {
      "name": "python"
    }
  },
  "cells": [
    {
      "cell_type": "code",
      "source": [
        "import pandas as pd\n",
        "import numpy as np\n",
        "from sklearn.preprocessing import MinMaxScaler\n",
        "from sklearn.decomposition import PCA\n",
        "import matplotlib.pyplot as plt\n",
        "import seaborn as sns"
      ],
      "metadata": {
        "id": "1mOHyE8DxWH_"
      },
      "execution_count": 11,
      "outputs": []
    },
    {
      "cell_type": "code",
      "source": [
        "df = pd.read_csv(\"datascience_salaries.csv\")\n",
        "print(df.head())\n",
        "scaler = MinMaxScaler()\n",
        "df[\"salary_norm\"] = scaler.fit_transform(df[[\"salary\"]])\n",
        "\n",
        "print(\"\\nNormalized salary (first 5):\")\n",
        "print(df[[\"salary\", \"salary_norm\"]].head())\n",
        "\n",
        "num_df = df.select_dtypes(include=[np.number]).dropna()\n",
        "\n",
        "pca = PCA(n_components=2)\n",
        "reduced = pca.fit_transform(num_df)\n",
        "\n",
        "df[\"PCA1\"] = reduced[:, 0]\n",
        "df[\"PCA2\"] = reduced[:, 1]\n",
        "\n",
        "print(\"\\nPCA Explained Variance:\", pca.explained_variance_ratio_)\n",
        "print(reduced[:5])\n",
        "\n",
        "salary_summary = df.groupby(\"experience_level\")[\"salary\"].agg([\"mean\", \"median\"]).reset_index()\n",
        "print(\"\\nAverage & Median Salaries by Experience Level:\")\n",
        "print(salary_summary)\n"
      ],
      "metadata": {
        "colab": {
          "base_uri": "https://localhost:8080/"
        },
        "id": "Tw9DXqmexWL8",
        "outputId": "a2009b90-7c1b-4d0b-af77-090bee42b184"
      },
      "execution_count": 17,
      "outputs": [
        {
          "output_type": "stream",
          "name": "stdout",
          "text": [
            "   Unnamed: 0       job_title   job_type experience_level       location  \\\n",
            "0           0  Data scientist  Full Time           Senior  New York City   \n",
            "1           2  Data scientist  Full Time           Senior         Boston   \n",
            "2           3  Data scientist  Full Time           Senior         London   \n",
            "3           4  Data scientist  Full Time           Senior         Boston   \n",
            "4           5  Data scientist  Full Time           Senior  New York City   \n",
            "\n",
            "  salary_currency  salary  \n",
            "0             USD  149000  \n",
            "1             USD  120000  \n",
            "2             USD   68000  \n",
            "3             USD  120000  \n",
            "4             USD  149000  \n",
            "\n",
            "Normalized salary (first 5):\n",
            "   salary  salary_norm\n",
            "0  149000     0.601010\n",
            "1  120000     0.454545\n",
            "2   68000     0.191919\n",
            "3  120000     0.454545\n",
            "4  149000     0.601010\n",
            "\n",
            "PCA Explained Variance: [9.99604599e-01 3.95400641e-04]\n",
            "[[84163.76608131  -949.19318317]\n",
            " [55163.7671306   -941.13835148]\n",
            " [ 3163.76847212  -929.28141183]\n",
            " [55163.76754817  -939.13835152]\n",
            " [84163.76712524  -944.19318328]]\n",
            "\n",
            "Average & Median Salaries by Experience Level:\n",
            "  experience_level          mean   median\n",
            "0            Entry  36111.111111  30000.0\n",
            "1        Executive  76076.923077  46000.0\n",
            "2              Mid  51786.885246  51000.0\n",
            "3           Senior  75088.033012  68000.0\n"
          ]
        }
      ]
    },
    {
      "cell_type": "code",
      "source": [],
      "metadata": {
        "id": "OsX3aZlQxWRz"
      },
      "execution_count": null,
      "outputs": []
    }
  ]
}