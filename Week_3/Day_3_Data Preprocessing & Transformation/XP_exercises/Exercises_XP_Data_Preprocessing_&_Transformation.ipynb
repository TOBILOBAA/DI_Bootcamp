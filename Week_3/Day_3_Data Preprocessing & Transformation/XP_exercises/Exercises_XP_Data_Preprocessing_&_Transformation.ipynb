{
  "nbformat": 4,
  "nbformat_minor": 0,
  "metadata": {
    "colab": {
      "provenance": []
    },
    "kernelspec": {
      "name": "python3",
      "display_name": "Python 3"
    },
    "language_info": {
      "name": "python"
    }
  },
  "cells": [
    {
      "cell_type": "code",
      "execution_count": null,
      "metadata": {
        "id": "yOvS5udWzEMM",
        "colab": {
          "base_uri": "https://localhost:8080/"
        },
        "outputId": "fe8bb96e-dc6b-433c-d21b-38567ebd340d"
      },
      "outputs": [
        {
          "output_type": "stream",
          "name": "stdout",
          "text": [
            "0\n"
          ]
        }
      ],
      "source": [
        "import pandas as pd\n",
        "titanic_dataset = pd.read_csv('train.csv')\n",
        "duplicate_rows = titanic_dataset.duplicated()\n",
        "print(titanic_dataset.duplicated().sum())\n",
        "\n",
        "#There are no duplicates so there's no need for me to remove any duplicates"
      ]
    },
    {
      "cell_type": "code",
      "source": [
        "print(titanic_dataset.isnull().sum())"
      ],
      "metadata": {
        "colab": {
          "base_uri": "https://localhost:8080/"
        },
        "id": "4IMhnD988Av9",
        "outputId": "7c42b0b8-ee1d-4d9f-e120-070c90309020"
      },
      "execution_count": null,
      "outputs": [
        {
          "output_type": "stream",
          "name": "stdout",
          "text": [
            "PassengerId      0\n",
            "Survived         0\n",
            "Pclass           0\n",
            "Name             0\n",
            "Sex              0\n",
            "Age            177\n",
            "SibSp            0\n",
            "Parch            0\n",
            "Ticket           0\n",
            "Fare             0\n",
            "Cabin          687\n",
            "Embarked         2\n",
            "dtype: int64\n"
          ]
        }
      ]
    },
    {
      "cell_type": "code",
      "source": [
        "titanic_dataset = titanic_dataset.dropna(subset=[\"Embarked\"])\n",
        "print(titanic_dataset.isnull().sum())"
      ],
      "metadata": {
        "colab": {
          "base_uri": "https://localhost:8080/"
        },
        "id": "X0YrGQ5I-inu",
        "outputId": "4a3946f5-4f2d-466d-9939-66dfc0a31253"
      },
      "execution_count": null,
      "outputs": [
        {
          "output_type": "stream",
          "name": "stdout",
          "text": [
            "PassengerId      0\n",
            "Survived         0\n",
            "Pclass           0\n",
            "Name             0\n",
            "Sex              0\n",
            "Age            177\n",
            "SibSp            0\n",
            "Parch            0\n",
            "Ticket           0\n",
            "Fare             0\n",
            "Cabin          687\n",
            "Embarked         0\n",
            "dtype: int64\n"
          ]
        }
      ]
    },
    {
      "cell_type": "code",
      "source": [
        "titanic_dataset[\"Age\"] = titanic_dataset[\"Age\"].fillna(titanic_dataset[\"Age\"].median())\n",
        "print(titanic_dataset.isnull().sum())"
      ],
      "metadata": {
        "colab": {
          "base_uri": "https://localhost:8080/"
        },
        "id": "WCgddSAS-i29",
        "outputId": "263415c3-4fd8-49d8-efde-d8e880d8cd67"
      },
      "execution_count": null,
      "outputs": [
        {
          "output_type": "stream",
          "name": "stdout",
          "text": [
            "PassengerId      0\n",
            "Survived         0\n",
            "Pclass           0\n",
            "Name             0\n",
            "Sex              0\n",
            "Age              0\n",
            "SibSp            0\n",
            "Parch            0\n",
            "Ticket           0\n",
            "Fare             0\n",
            "Cabin          687\n",
            "Embarked         0\n",
            "dtype: int64\n"
          ]
        }
      ]
    },
    {
      "cell_type": "code",
      "source": [
        "titanic_dataset[\"Cabin\"] = titanic_dataset[\"Cabin\"].fillna(\"Unknown\")\n",
        "print(titanic_dataset.isnull().sum())"
      ],
      "metadata": {
        "colab": {
          "base_uri": "https://localhost:8080/"
        },
        "id": "a044kVdi_0vf",
        "outputId": "338bcc6a-615a-497b-fd8c-5476878eda7c"
      },
      "execution_count": null,
      "outputs": [
        {
          "output_type": "stream",
          "name": "stdout",
          "text": [
            "PassengerId    0\n",
            "Survived       0\n",
            "Pclass         0\n",
            "Name           0\n",
            "Sex            0\n",
            "Age            0\n",
            "SibSp          0\n",
            "Parch          0\n",
            "Ticket         0\n",
            "Fare           0\n",
            "Cabin          0\n",
            "Embarked       0\n",
            "dtype: int64\n"
          ]
        }
      ]
    },
    {
      "cell_type": "code",
      "source": [
        "titanic_dataset[\"FamilySize\"] = titanic_dataset[\"SibSp\"] + titanic_dataset[\"Parch\"] + 1\n",
        "\n",
        "titanic_dataset[\"Title\"] = titanic_dataset[\"Name\"].str.extract(r\",\\s*([A-Za-z]+)\\.\", expand=False)\n",
        "\n",
        "common = {\"Mr\", \"Mrs\", \"Miss\", \"Master\"}\n",
        "titanic_dataset[\"Title\"] = titanic_dataset[\"Title\"].where(titanic_dataset[\"Title\"].isin(common), \"Rare\")\n",
        "\n",
        "titanic_dataset[\"Embarked\"] = titanic_dataset[\"Embarked\"].fillna(titanic_dataset[\"Embarked\"].mode()[0])\n",
        "\n",
        "cat_cols = [\"Sex\", \"Embarked\", \"Title\"]\n",
        "titanic_dataset = pd.get_dummies(titanic_dataset, columns=cat_cols, drop_first=True)\n",
        "\n",
        "\n"
      ],
      "metadata": {
        "id": "Vz0XzP23CYmg",
        "colab": {
          "base_uri": "https://localhost:8080/",
          "height": 547
        },
        "collapsed": true,
        "outputId": "dd7a5f97-cc00-4514-bfbf-2b1226e2bdb2"
      },
      "execution_count": null,
      "outputs": [
        {
          "output_type": "error",
          "ename": "KeyError",
          "evalue": "'Embarked'",
          "traceback": [
            "\u001b[0;31m---------------------------------------------------------------------------\u001b[0m",
            "\u001b[0;31mKeyError\u001b[0m                                  Traceback (most recent call last)",
            "\u001b[0;32m/usr/local/lib/python3.12/dist-packages/pandas/core/indexes/base.py\u001b[0m in \u001b[0;36mget_loc\u001b[0;34m(self, key)\u001b[0m\n\u001b[1;32m   3804\u001b[0m         \u001b[0;32mtry\u001b[0m\u001b[0;34m:\u001b[0m\u001b[0;34m\u001b[0m\u001b[0;34m\u001b[0m\u001b[0m\n\u001b[0;32m-> 3805\u001b[0;31m             \u001b[0;32mreturn\u001b[0m \u001b[0mself\u001b[0m\u001b[0;34m.\u001b[0m\u001b[0m_engine\u001b[0m\u001b[0;34m.\u001b[0m\u001b[0mget_loc\u001b[0m\u001b[0;34m(\u001b[0m\u001b[0mcasted_key\u001b[0m\u001b[0;34m)\u001b[0m\u001b[0;34m\u001b[0m\u001b[0;34m\u001b[0m\u001b[0m\n\u001b[0m\u001b[1;32m   3806\u001b[0m         \u001b[0;32mexcept\u001b[0m \u001b[0mKeyError\u001b[0m \u001b[0;32mas\u001b[0m \u001b[0merr\u001b[0m\u001b[0;34m:\u001b[0m\u001b[0;34m\u001b[0m\u001b[0;34m\u001b[0m\u001b[0m\n",
            "\u001b[0;32mindex.pyx\u001b[0m in \u001b[0;36mpandas._libs.index.IndexEngine.get_loc\u001b[0;34m()\u001b[0m\n",
            "\u001b[0;32mindex.pyx\u001b[0m in \u001b[0;36mpandas._libs.index.IndexEngine.get_loc\u001b[0;34m()\u001b[0m\n",
            "\u001b[0;32mpandas/_libs/hashtable_class_helper.pxi\u001b[0m in \u001b[0;36mpandas._libs.hashtable.PyObjectHashTable.get_item\u001b[0;34m()\u001b[0m\n",
            "\u001b[0;32mpandas/_libs/hashtable_class_helper.pxi\u001b[0m in \u001b[0;36mpandas._libs.hashtable.PyObjectHashTable.get_item\u001b[0;34m()\u001b[0m\n",
            "\u001b[0;31mKeyError\u001b[0m: 'Embarked'",
            "\nThe above exception was the direct cause of the following exception:\n",
            "\u001b[0;31mKeyError\u001b[0m                                  Traceback (most recent call last)",
            "\u001b[0;32m/tmp/ipython-input-4218650604.py\u001b[0m in \u001b[0;36m<cell line: 0>\u001b[0;34m()\u001b[0m\n\u001b[1;32m      6\u001b[0m \u001b[0mtitanic_dataset\u001b[0m\u001b[0;34m[\u001b[0m\u001b[0;34m\"Title\"\u001b[0m\u001b[0;34m]\u001b[0m \u001b[0;34m=\u001b[0m \u001b[0mtitanic_dataset\u001b[0m\u001b[0;34m[\u001b[0m\u001b[0;34m\"Title\"\u001b[0m\u001b[0;34m]\u001b[0m\u001b[0;34m.\u001b[0m\u001b[0mwhere\u001b[0m\u001b[0;34m(\u001b[0m\u001b[0mtitanic_dataset\u001b[0m\u001b[0;34m[\u001b[0m\u001b[0;34m\"Title\"\u001b[0m\u001b[0;34m]\u001b[0m\u001b[0;34m.\u001b[0m\u001b[0misin\u001b[0m\u001b[0;34m(\u001b[0m\u001b[0mcommon\u001b[0m\u001b[0;34m)\u001b[0m\u001b[0;34m,\u001b[0m \u001b[0;34m\"Rare\"\u001b[0m\u001b[0;34m)\u001b[0m\u001b[0;34m\u001b[0m\u001b[0;34m\u001b[0m\u001b[0m\n\u001b[1;32m      7\u001b[0m \u001b[0;34m\u001b[0m\u001b[0m\n\u001b[0;32m----> 8\u001b[0;31m \u001b[0mtitanic_dataset\u001b[0m\u001b[0;34m[\u001b[0m\u001b[0;34m\"Embarked\"\u001b[0m\u001b[0;34m]\u001b[0m \u001b[0;34m=\u001b[0m \u001b[0mtitanic_dataset\u001b[0m\u001b[0;34m[\u001b[0m\u001b[0;34m\"Embarked\"\u001b[0m\u001b[0;34m]\u001b[0m\u001b[0;34m.\u001b[0m\u001b[0mfillna\u001b[0m\u001b[0;34m(\u001b[0m\u001b[0mtitanic_dataset\u001b[0m\u001b[0;34m[\u001b[0m\u001b[0;34m\"Embarked\"\u001b[0m\u001b[0;34m]\u001b[0m\u001b[0;34m.\u001b[0m\u001b[0mmode\u001b[0m\u001b[0;34m(\u001b[0m\u001b[0;34m)\u001b[0m\u001b[0;34m[\u001b[0m\u001b[0;36m0\u001b[0m\u001b[0;34m]\u001b[0m\u001b[0;34m)\u001b[0m\u001b[0;34m\u001b[0m\u001b[0;34m\u001b[0m\u001b[0m\n\u001b[0m\u001b[1;32m      9\u001b[0m \u001b[0;34m\u001b[0m\u001b[0m\n\u001b[1;32m     10\u001b[0m \u001b[0mcat_cols\u001b[0m \u001b[0;34m=\u001b[0m \u001b[0;34m[\u001b[0m\u001b[0;34m\"Sex\"\u001b[0m\u001b[0;34m,\u001b[0m \u001b[0;34m\"Embarked\"\u001b[0m\u001b[0;34m,\u001b[0m \u001b[0;34m\"Title\"\u001b[0m\u001b[0;34m]\u001b[0m\u001b[0;34m\u001b[0m\u001b[0;34m\u001b[0m\u001b[0m\n",
            "\u001b[0;32m/usr/local/lib/python3.12/dist-packages/pandas/core/frame.py\u001b[0m in \u001b[0;36m__getitem__\u001b[0;34m(self, key)\u001b[0m\n\u001b[1;32m   4100\u001b[0m             \u001b[0;32mif\u001b[0m \u001b[0mself\u001b[0m\u001b[0;34m.\u001b[0m\u001b[0mcolumns\u001b[0m\u001b[0;34m.\u001b[0m\u001b[0mnlevels\u001b[0m \u001b[0;34m>\u001b[0m \u001b[0;36m1\u001b[0m\u001b[0;34m:\u001b[0m\u001b[0;34m\u001b[0m\u001b[0;34m\u001b[0m\u001b[0m\n\u001b[1;32m   4101\u001b[0m                 \u001b[0;32mreturn\u001b[0m \u001b[0mself\u001b[0m\u001b[0;34m.\u001b[0m\u001b[0m_getitem_multilevel\u001b[0m\u001b[0;34m(\u001b[0m\u001b[0mkey\u001b[0m\u001b[0;34m)\u001b[0m\u001b[0;34m\u001b[0m\u001b[0;34m\u001b[0m\u001b[0m\n\u001b[0;32m-> 4102\u001b[0;31m             \u001b[0mindexer\u001b[0m \u001b[0;34m=\u001b[0m \u001b[0mself\u001b[0m\u001b[0;34m.\u001b[0m\u001b[0mcolumns\u001b[0m\u001b[0;34m.\u001b[0m\u001b[0mget_loc\u001b[0m\u001b[0;34m(\u001b[0m\u001b[0mkey\u001b[0m\u001b[0;34m)\u001b[0m\u001b[0;34m\u001b[0m\u001b[0;34m\u001b[0m\u001b[0m\n\u001b[0m\u001b[1;32m   4103\u001b[0m             \u001b[0;32mif\u001b[0m \u001b[0mis_integer\u001b[0m\u001b[0;34m(\u001b[0m\u001b[0mindexer\u001b[0m\u001b[0;34m)\u001b[0m\u001b[0;34m:\u001b[0m\u001b[0;34m\u001b[0m\u001b[0;34m\u001b[0m\u001b[0m\n\u001b[1;32m   4104\u001b[0m                 \u001b[0mindexer\u001b[0m \u001b[0;34m=\u001b[0m \u001b[0;34m[\u001b[0m\u001b[0mindexer\u001b[0m\u001b[0;34m]\u001b[0m\u001b[0;34m\u001b[0m\u001b[0;34m\u001b[0m\u001b[0m\n",
            "\u001b[0;32m/usr/local/lib/python3.12/dist-packages/pandas/core/indexes/base.py\u001b[0m in \u001b[0;36mget_loc\u001b[0;34m(self, key)\u001b[0m\n\u001b[1;32m   3810\u001b[0m             ):\n\u001b[1;32m   3811\u001b[0m                 \u001b[0;32mraise\u001b[0m \u001b[0mInvalidIndexError\u001b[0m\u001b[0;34m(\u001b[0m\u001b[0mkey\u001b[0m\u001b[0;34m)\u001b[0m\u001b[0;34m\u001b[0m\u001b[0;34m\u001b[0m\u001b[0m\n\u001b[0;32m-> 3812\u001b[0;31m             \u001b[0;32mraise\u001b[0m \u001b[0mKeyError\u001b[0m\u001b[0;34m(\u001b[0m\u001b[0mkey\u001b[0m\u001b[0;34m)\u001b[0m \u001b[0;32mfrom\u001b[0m \u001b[0merr\u001b[0m\u001b[0;34m\u001b[0m\u001b[0;34m\u001b[0m\u001b[0m\n\u001b[0m\u001b[1;32m   3813\u001b[0m         \u001b[0;32mexcept\u001b[0m \u001b[0mTypeError\u001b[0m\u001b[0;34m:\u001b[0m\u001b[0;34m\u001b[0m\u001b[0;34m\u001b[0m\u001b[0m\n\u001b[1;32m   3814\u001b[0m             \u001b[0;31m# If we have a listlike key, _check_indexing_error will raise\u001b[0m\u001b[0;34m\u001b[0m\u001b[0;34m\u001b[0m\u001b[0m\n",
            "\u001b[0;31mKeyError\u001b[0m: 'Embarked'"
          ]
        }
      ]
    },
    {
      "cell_type": "code",
      "source": [
        "print(titanic_dataset.head())\n",
        "print(titanic_dataset[[\"Sex_male\", \"Embarked_Q\", \"Embarked_S\", \"Title_Miss\", \"Title_Mr\", \"Title_Mrs\", \"Title_Rare\"]].head())\n"
      ],
      "metadata": {
        "colab": {
          "base_uri": "https://localhost:8080/"
        },
        "id": "f2Xt5LVuMHCA",
        "outputId": "647620c2-6be1-4f02-cc1f-1b4bdb298a43"
      },
      "execution_count": null,
      "outputs": [
        {
          "output_type": "stream",
          "name": "stdout",
          "text": [
            "   PassengerId  Survived  Pclass  \\\n",
            "0            1         0       3   \n",
            "1            2         1       1   \n",
            "2            3         1       3   \n",
            "3            4         1       1   \n",
            "4            5         0       3   \n",
            "\n",
            "                                                Name   Age  SibSp  Parch  \\\n",
            "0                            Braund, Mr. Owen Harris  22.0      1      0   \n",
            "1  Cumings, Mrs. John Bradley (Florence Briggs Th...  38.0      1      0   \n",
            "2                             Heikkinen, Miss. Laina  26.0      0      0   \n",
            "3       Futrelle, Mrs. Jacques Heath (Lily May Peel)  35.0      1      0   \n",
            "4                           Allen, Mr. William Henry  35.0      0      0   \n",
            "\n",
            "             Ticket     Fare    Cabin  ...  Title_Miss  Title_Mr  Title_Mrs  \\\n",
            "0         A/5 21171   7.2500  Unknown  ...       False      True      False   \n",
            "1          PC 17599  71.2833      C85  ...       False     False       True   \n",
            "2  STON/O2. 3101282   7.9250  Unknown  ...        True     False      False   \n",
            "3            113803  53.1000     C123  ...       False     False       True   \n",
            "4            373450   8.0500  Unknown  ...       False      True      False   \n",
            "\n",
            "   Title_Rare    Fare_z     Age_z  Fare_capped  Age_capped  Fare_log  Title  \n",
            "0       False -0.500240 -0.563674       7.2500        22.0  2.110213     Mr  \n",
            "1       False  0.788947  0.669217      71.2833        38.0  4.280593    Mrs  \n",
            "2       False -0.486650 -0.255451       7.9250        26.0  2.188856   Miss  \n",
            "3       False  0.422861  0.438050      53.1000        35.0  3.990834    Mrs  \n",
            "4       False -0.484133  0.438050       8.0500        35.0  2.202765     Mr  \n",
            "\n",
            "[5 rows x 24 columns]\n",
            "   Sex_male  Embarked_Q  Embarked_S  Title_Miss  Title_Mr  Title_Mrs  \\\n",
            "0      True       False        True       False      True      False   \n",
            "1     False       False       False       False     False       True   \n",
            "2     False       False        True        True     False      False   \n",
            "3     False       False        True       False     False       True   \n",
            "4      True       False        True       False      True      False   \n",
            "\n",
            "   Title_Rare  \n",
            "0       False  \n",
            "1       False  \n",
            "2       False  \n",
            "3       False  \n",
            "4       False  \n"
          ]
        }
      ]
    },
    {
      "cell_type": "code",
      "source": [
        "import matplotlib.pyplot as plt\n",
        "import seaborn as sns\n",
        "\n",
        "fig, axes = plt.subplots(1, 2, figsize=(12,5))\n",
        "sns.histplot(titanic_dataset[\"Age\"].dropna(), bins=30, ax=axes[0])\n",
        "axes[0].set_title(\"Age Distribution\")\n",
        "\n",
        "sns.histplot(titanic_dataset[\"Fare\"].dropna(), bins=30, ax=axes[1])\n",
        "axes[1].set_title(\"Fare Distribution\")\n",
        "plt.show()\n",
        "\n"
      ],
      "metadata": {
        "colab": {
          "base_uri": "https://localhost:8080/",
          "height": 487
        },
        "id": "GPYAgLdgCYq0",
        "outputId": "9603df13-f3f7-4ba8-bf2d-4a888858aa8e"
      },
      "execution_count": null,
      "outputs": [
        {
          "output_type": "display_data",
          "data": {
            "text/plain": [
              "<Figure size 1200x500 with 2 Axes>"
            ],
            "image/png": "[encoded data removed]"
          },
          "metadata": {}
        }
      ]
    },
    {
      "cell_type": "code",
      "source": [
        "Q1 = titanic_dataset[\"Age\"].quantile(0.25)\n",
        "Q3 = titanic_dataset[\"Age\"].quantile(0.75)\n",
        "IQR = Q3 - Q1\n",
        "lower_age = Q1 - 1.5*IQR\n",
        "upper_age = Q3 + 1.5*IQR\n",
        "\n",
        "Q1 = titanic_dataset[\"Fare\"].quantile(0.25)\n",
        "Q3 = titanic_dataset[\"Fare\"].quantile(0.75)\n",
        "IQR = Q3 - Q1\n",
        "lower_fare = Q1 - 1.5*IQR\n",
        "upper_fare = Q3 + 1.5*IQR\n"
      ],
      "metadata": {
        "id": "ej-Ull5FCYvK"
      },
      "execution_count": null,
      "outputs": []
    },
    {
      "cell_type": "code",
      "source": [
        "from scipy.stats import zscore\n",
        "\n",
        "titanic_dataset[\"Fare_z\"] = zscore(titanic_dataset[\"Fare\"].fillna(0))\n",
        "titanic_dataset[\"Age_z\"] = zscore(titanic_dataset[\"Age\"].fillna(0))\n",
        "\n",
        "\n",
        "outliers_fare = titanic_dataset[titanic_dataset[\"Fare_z\"].abs() > 3]\n",
        "outliers_age = titanic_dataset[titanic_dataset[\"Age_z\"].abs() > 3]"
      ],
      "metadata": {
        "id": "zDfgYFZyCZ52"
      },
      "execution_count": null,
      "outputs": []
    },
    {
      "cell_type": "code",
      "source": [
        "fare_cap = titanic_dataset[\"Fare\"].quantile(0.98)\n",
        "titanic_dataset[\"Fare_capped\"] = titanic_dataset[\"Fare\"].clip(upper=fare_cap)\n",
        "\n",
        "age_cap = titanic_dataset[\"Age\"].quantile(0.99)\n",
        "titanic_dataset[\"Age_capped\"] = titanic_dataset[\"Age\"].clip(upper=age_cap)\n"
      ],
      "metadata": {
        "id": "hJc-yJnTUkdI"
      },
      "execution_count": null,
      "outputs": []
    },
    {
      "cell_type": "code",
      "source": [
        "import numpy as np\n",
        "\n",
        "titanic_dataset[\"Fare_log\"] = np.log1p(titanic_dataset[\"Fare\"])"
      ],
      "metadata": {
        "id": "SeXd8hmPUkgw"
      },
      "execution_count": null,
      "outputs": []
    },
    {
      "cell_type": "code",
      "source": [
        "titanic_dataset_removed = titanic_dataset[(titanic_dataset[\"Fare\"] <= upper_fare) & (titanic_dataset[\"Fare\"] >= lower_fare)]\n"
      ],
      "metadata": {
        "id": "HTu6EsyuUkmb"
      },
      "execution_count": null,
      "outputs": []
    },
    {
      "cell_type": "code",
      "source": [
        "fig, axes = plt.subplots(1, 2, figsize=(12,5))\n",
        "\n",
        "sns.histplot(y=titanic_dataset[\"Fare\"], ax=axes[0])\n",
        "axes[0].set_title(\"Before\")\n",
        "\n",
        "sns.histplot(y=titanic_dataset[\"Fare_capped\"], ax=axes[1])\n",
        "axes[1].set_title(\"After Capping\")\n",
        "plt.show()\n"
      ],
      "metadata": {
        "colab": {
          "base_uri": "https://localhost:8080/",
          "height": 487
        },
        "id": "zhWRJ6DaUtyZ",
        "outputId": "6fc9a767-9db4-4968-fd36-548ee2432524"
      },
      "execution_count": null,
      "outputs": [
        {
          "output_type": "display_data",
          "data": {
            "text/plain": [
              "<Figure size 1200x500 with 2 Axes>"
            ],
            "image/png": "[encoded data removed]"
          },
          "metadata": {}
        }
      ]
    },
    {
      "cell_type": "code",
      "source": [
        "from sklearn.preprocessing import StandardScaler, minmax_scale\n",
        "\n",
        "num_cols = [\"Age\", \"Fare\"]\n",
        "\n",
        "titanic_dataset[\"Age\"] = titanic_dataset[\"Age\"].fillna(titanic_dataset[\"Age\"].median())\n",
        "titanic_dataset[\"Fare\"] = titanic_dataset[\"Fare\"].fillna(titanic_dataset[\"Fare\"].median())\n",
        "\n",
        "scaler = StandardScaler()\n",
        "titanic_dataset[\"Age_z\"] = scaler.fit_transform(titanic_dataset[[\"Age\"]])\n",
        "\n",
        "scaler_standard = StandardScaler()\n",
        "titanic_dataset[\"Fare_norm\"] = scaler_standard.fit_transform(titanic_dataset[[\"Fare\"]])\n",
        "\n",
        "print(titanic_dataset[[\"Age\", \"Age_z\", \"Fare\", \"Fare_norm\"]].head())"
      ],
      "metadata": {
        "id": "WBs4TozjUt2B",
        "colab": {
          "base_uri": "https://localhost:8080/"
        },
        "collapsed": true,
        "outputId": "a7dc59c5-e0b0-43c9-9740-1270d6944463"
      },
      "execution_count": 20,
      "outputs": [
        {
          "output_type": "stream",
          "name": "stdout",
          "text": [
            "    Age     Age_z     Fare  Fare_norm\n",
            "0  22.0 -0.563674   7.2500  -0.500240\n",
            "1  38.0  0.669217  71.2833   0.788947\n",
            "2  26.0 -0.255451   7.9250  -0.486650\n",
            "3  35.0  0.438050  53.1000   0.422861\n",
            "4  35.0  0.438050   8.0500  -0.484133\n"
          ]
        }
      ]
    },
    {
      "cell_type": "code",
      "source": [
        "print(titanic_dataset.columns.tolist())"
      ],
      "metadata": {
        "colab": {
          "base_uri": "https://localhost:8080/"
        },
        "id": "0Dj6Pq6absHw",
        "outputId": "8f02a46c-10f0-484f-d1fd-d0f8ac0ca093"
      },
      "execution_count": 24,
      "outputs": [
        {
          "output_type": "stream",
          "name": "stdout",
          "text": [
            "['PassengerId', 'Survived', 'Pclass', 'Name', 'Age', 'SibSp', 'Parch', 'Ticket', 'Fare', 'Cabin', 'FamilySize', 'Sex_male', 'Embarked_Q', 'Embarked_S', 'Title_Miss', 'Title_Mr', 'Title_Mrs', 'Title_Rare', 'Fare_z', 'Age_z', 'Fare_capped', 'Age_capped', 'Fare_log', 'Title', 'Fare_norm']\n"
          ]
        }
      ]
    },
    {
      "cell_type": "code",
      "source": [
        "titanic_encoded = pd.get_dummies(titanic_dataset.drop(columns=[\"Title\"]))\n",
        "print(\"New dataset shape:\", titanic_encoded.shape)\n",
        "print(\"Encoded columns added:\")\n",
        "print([col for col in titanic_encoded.columns if col.startswith(\"sex_\") or col.startswith(\"Embarked_\") or col.startswith(\"Title_\")])\n",
        "\n",
        "print(titanic_encoded.head())"
      ],
      "metadata": {
        "colab": {
          "base_uri": "https://localhost:8080/"
        },
        "id": "Z6Hky_J0Tn06",
        "outputId": "fe3250ce-c391-4937-9bd3-eb457742dfeb"
      },
      "execution_count": 28,
      "outputs": [
        {
          "output_type": "stream",
          "name": "stdout",
          "text": [
            "New dataset shape: (889, 1737)\n",
            "Encoded columns added:\n",
            "['Embarked_Q', 'Embarked_S', 'Title_Miss', 'Title_Mr', 'Title_Mrs', 'Title_Rare']\n",
            "   PassengerId  Survived  Pclass   Age  SibSp  Parch     Fare  FamilySize  \\\n",
            "0            1         0       3  22.0      1      0   7.2500           2   \n",
            "1            2         1       1  38.0      1      0  71.2833           2   \n",
            "2            3         1       3  26.0      0      0   7.9250           1   \n",
            "3            4         1       1  35.0      1      0  53.1000           2   \n",
            "4            5         0       3  35.0      0      0   8.0500           1   \n",
            "\n",
            "   Sex_male  Embarked_Q  ...  Cabin_F E69  Cabin_F G63  Cabin_F G73  Cabin_F2  \\\n",
            "0      True       False  ...        False        False        False     False   \n",
            "1     False       False  ...        False        False        False     False   \n",
            "2     False       False  ...        False        False        False     False   \n",
            "3     False       False  ...        False        False        False     False   \n",
            "4      True       False  ...        False        False        False     False   \n",
            "\n",
            "   Cabin_F33  Cabin_F38  Cabin_F4  Cabin_G6  Cabin_T  Cabin_Unknown  \n",
            "0      False      False     False     False    False           True  \n",
            "1      False      False     False     False    False          False  \n",
            "2      False      False     False     False    False           True  \n",
            "3      False      False     False     False    False          False  \n",
            "4      False      False     False     False    False           True  \n",
            "\n",
            "[5 rows x 1737 columns]\n"
          ]
        }
      ]
    },
    {
      "cell_type": "code",
      "source": [
        "bins = [0, 12, 18, 60, np.inf]\n",
        "labels = [\"Child\", \"Teen\", \"Adult\", \"Senior\"]\n",
        "\n",
        "titanic_dataset[\"AgeGroup\"] = pd.cut(\n",
        "    titanic_dataset[\"Age\"],\n",
        "    bins=bins,\n",
        "    labels=labels,\n",
        "    right=False,\n",
        "    include_lowest=True\n",
        ")\n",
        "\n",
        "age_dummies = pd.get_dummies(titanic_dataset[\"AgeGroup\"], prefix=\"Age_Group\", drop_first=True)\n",
        "\n",
        "titanic_dataset = pd.concat([titanic_dataset, age_dummies], axis=1)\n",
        "\n",
        "print(\"Counts per AgeGroup\")\n",
        "print(titanic_dataset[\"AgeGroup\"].value_counts(dropna=False))\n",
        "print(\"\\n Preview of encoded columns:\")\n",
        "print(titanic_dataset[[\"Age\", \"AgeGroup\"] + age_dummies.columns.tolist()].head())\n",
        "\n",
        "\n"
      ],
      "metadata": {
        "colab": {
          "base_uri": "https://localhost:8080/"
        },
        "id": "cDdkS-K8c8z6",
        "outputId": "209070ac-5a87-4f4c-bcee-65a4b6d610df"
      },
      "execution_count": 32,
      "outputs": [
        {
          "output_type": "stream",
          "name": "stdout",
          "text": [
            "Counts per AgeGroup\n",
            "AgeGroup\n",
            "Adult     751\n",
            "Child      68\n",
            "Teen       45\n",
            "Senior     25\n",
            "Name: count, dtype: int64\n",
            "\n",
            " Preview of encoded columns:\n",
            "    Age AgeGroup  Age_Group_Teen  Age_Group_Teen  Age_Group_Adult  \\\n",
            "0  22.0    Adult           False           False             True   \n",
            "1  38.0    Adult           False           False             True   \n",
            "2  26.0    Adult           False           False             True   \n",
            "3  35.0    Adult           False           False             True   \n",
            "4  35.0    Adult           False           False             True   \n",
            "\n",
            "   Age_Group_Adult  Age_Group_Senior  Age_Group_Senior  \n",
            "0             True             False             False  \n",
            "1             True             False             False  \n",
            "2             True             False             False  \n",
            "3             True             False             False  \n",
            "4             True             False             False  \n"
          ]
        }
      ]
    },
    {
      "cell_type": "code",
      "source": [],
      "metadata": {
        "id": "iwx9UBxoh_9X"
      },
      "execution_count": null,
      "outputs": []
    }
  ]
}